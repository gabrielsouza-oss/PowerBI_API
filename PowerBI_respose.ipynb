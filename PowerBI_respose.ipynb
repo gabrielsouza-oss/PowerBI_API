{
  "nbformat": 4,
  "nbformat_minor": 0,
  "metadata": {
    "colab": {
      "name": "PowerBI_respose.ipynb",
      "provenance": []
    },
    "kernelspec": {
      "name": "python3",
      "display_name": "Python 3"
    },
    "language_info": {
      "name": "python"
    }
  },
  "cells": [
    {
      "cell_type": "code",
      "source": [
        "import pandas as pd\n",
        "import requests\n",
        "#https://github.com/rhariharaneee/Power-BI/blob/master/Workflow.ps1\n",
        "#https://docs.microsoft.com/en-us/rest/api/power-bi/datasets/get-refresh-history\n",
        "#https://docs.microsoft.com/pt-br/powershell/power-bi/overview?toc=https%3A%2F%2Fdocs.microsoft.com%2Fpt-br%2Fpower-bi%2Fadmin%2Ftoc.json&bc=https%3A%2F%2Fdocs.microsoft.com%2Fpt-br%2Fpower-bi%2Fbreadcrumb%2Ftoc.json&view=powerbi-ps\n",
        "\n",
        "url_link = \"https://api.powerbi.com/v1.0/myorg/datasets/46cd2d67-22e7-4029-b29a-1c1d57928a52/refreshes?$top=1\"\n",
        "access_token =\"eyJ0eXAiOiJKV1QiLCJhbGciOiJSUzI1NiIsIng1dCI6Ik1yNS1BVWliZkJpaTdOZDFqQmViYXhib1hXMCIsImtpZCI6Ik1yNS1BVWliZkJpaTdOZDFqQmViYXhib1hXMCJ9.eyJhdWQiOiJodHRwczovL2FuYWx5c2lzLndpbmRvd3MubmV0L3Bvd2VyYmkvYXBpIiwiaXNzIjoiaHR0cHM6Ly9zdHMud2luZG93cy5uZXQvMTY4ZDQxMzctZDZmNi00NWY4LWFhYTctZDFhNzAyMzMwOTVlLyIsImlhdCI6MTY0MDEzOTIyOSwibmJmIjoxNjQwMTM5MjI5LCJleHAiOjE2NDAxNDM3NjYsImFjY3QiOjAsImFjciI6IjEiLCJhaW8iOiJFMlpnWUhqN1VYL2wzbzkrekEwcHJyUDdqeGEyNWJRbGlKais0bkZJUHlhMUlhWnl4MlFBIiwiYW1yIjpbInB3ZCJdLCJhcHBpZCI6IjdmNTlhNzczLTJlYWYtNDI5Yy1hMDU5LTUwZmM1YmIyOGI0NCIsImFwcGlkYWNyIjoiMiIsImlwYWRkciI6IjE5MS4xNjIuMjUxLjIzIiwibmFtZSI6IkdhYnJpZWwgZGUgT2xpdmVpcmEgU291emEiLCJvaWQiOiJkMTQ2N2MxZi1jYzhiLTQ4N2YtYWQxNy00ZjZkM2IxOTJlNDciLCJwdWlkIjoiMTAwM0JGRkRBOTM5MjgwOSIsInJoIjoiMC5BVVVBTjBHTkZ2YlctRVdxcDlHbkFqTUpYbk9uV1gtdkxweENvRmxRX0Z1eWkwUkZBR2suIiwic2NwIjoidXNlcl9pbXBlcnNvbmF0aW9uIiwic2lnbmluX3N0YXRlIjpbImttc2kiXSwic3ViIjoiTmZCOWJjMTd4Um1jZWRVeW80dFZxbHhaMHN5X2VIc2lOa1FwM1JEUTV5USIsInRpZCI6IjE2OGQ0MTM3LWQ2ZjYtNDVmOC1hYWE3LWQxYTcwMjMzMDk1ZSIsInVuaXF1ZV9uYW1lIjoiZ2FicmllbC5zb3V6YUBhbHVuby51ZmFiYy5lZHUuYnIiLCJ1cG4iOiJnYWJyaWVsLnNvdXphQGFsdW5vLnVmYWJjLmVkdS5iciIsInV0aSI6IjVrdlRPZERlekVlT2pxOTFicjgtQUEiLCJ2ZXIiOiIxLjAiLCJ3aWRzIjpbImI3OWZiZjRkLTNlZjktNDY4OS04MTQzLTc2YjE5NGU4NTUwOSJdfQ.VgkWGyZNg7TmEqrzejwui6JscEqG_11HC3qRKaigDkkOnbPfDhJugm1-dsbyTWHCZmL-TiGIJsjzuiuaV-s_AZ2gmmIs3ZzjThNBVODvmHMSsSk2CDiBp1V8VLR4EubR1YKmm5NwB9FSTsXvCcMSIreVGdzmHXqiv3Lz2RSXtYWHxvi0SUTDajTX6CjHN_rrgqjmBVRESEldeInkKIf8p3-2YDT71KiF0Q-BapMA6DReptEBnZ8jR5b2iIElil5CeYHiGtaYTpkcf-9MsufgvtWnZLJJIawsj-diohKcG-CLno20O0QesBDkSLM93sNBcOG4ujhYDm87KFT8TWpxxg\"\n",
        "header = {'Authorization': f'Bearer {access_token}'} \n",
        "json.loads(requests.get(url =url_link, headers = header ).content)"
      ],
      "metadata": {
        "colab": {
          "base_uri": "https://localhost:8080/"
        },
        "id": "JYipbbjt1M_T",
        "outputId": "d21d31b7-37a6-4d25-a8af-84fce0207deb"
      },
      "execution_count": 21,
      "outputs": [
        {
          "output_type": "execute_result",
          "data": {
            "text/plain": [
              "{'@odata.context': 'http://wabi-south-central-us-redirect.analysis.windows.net/v1.0/myorg/$metadata#refreshes',\n",
              " 'value': [{'endTime': '2021-12-22T01:34:54.53Z',\n",
              "   'id': 1438294960,\n",
              "   'refreshType': 'OnDemand',\n",
              "   'requestId': '976be2b7-e1a3-9c99-3012-5069cacc5e35',\n",
              "   'serviceExceptionJson': '{\"errorCode\":\"{\\\\\"error\\\\\":{\\\\\"code\\\\\":\\\\\"ModelRefresh_ShortMessage_ProcessingError\\\\\",\\\\\"pbi.error\\\\\":{\\\\\"code\\\\\":\\\\\"ModelRefresh_ShortMessage_ProcessingError\\\\\",\\\\\"parameters\\\\\":{},\\\\\"details\\\\\":[{\\\\\"code\\\\\":\\\\\"Message\\\\\",\\\\\"detail\\\\\":{\\\\\"type\\\\\":1,\\\\\"value\\\\\":\\\\\"The column \\'newCases\\' of the table wasn\\'t found.\\\\\"}}],\\\\\"exceptionCulprit\\\\\":1}}} Table: cases-brazil-states.\"}',\n",
              "   'startTime': '2021-12-22T01:34:54.11Z',\n",
              "   'status': 'Failed'}]}"
            ]
          },
          "metadata": {},
          "execution_count": 21
        }
      ]
    }
  ]
}